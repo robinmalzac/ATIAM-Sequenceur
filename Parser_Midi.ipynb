{
 "cells": [
  {
   "cell_type": "markdown",
   "metadata": {},
   "source": [
    "# Code Plus ou Moins d'origine\n",
    "\n",
    "C'est pas cette partie là qui est intéressante pour nous."
   ]
  },
  {
   "cell_type": "code",
   "execution_count": 1,
   "metadata": {},
   "outputs": [
    {
     "ename": "ConverterException",
     "evalue": "File not found or no such format found for: D:\\UNIVERSITE\\Cours\\Informatique Musicale\\Machine Learning\\Project\\Midi\\44swing5.mid",
     "output_type": "error",
     "traceback": [
      "\u001b[1;31m---------------------------------------------------------------------------\u001b[0m",
      "\u001b[1;31mConverterException\u001b[0m                        Traceback (most recent call last)",
      "\u001b[1;32m<ipython-input-1-731b3f3b3304>\u001b[0m in \u001b[0;36m<module>\u001b[1;34m()\u001b[0m\n\u001b[0;32m     71\u001b[0m \u001b[0mroot\u001b[0m \u001b[1;33m=\u001b[0m \u001b[1;34mr'D:\\UNIVERSITE\\Cours\\Informatique Musicale\\Machine Learning\\Project\\Midi'\u001b[0m\u001b[1;33m\u001b[0m\u001b[0m\n\u001b[0;32m     72\u001b[0m \u001b[0mtrack_path\u001b[0m \u001b[1;33m=\u001b[0m \u001b[0mos\u001b[0m\u001b[1;33m.\u001b[0m\u001b[0mpath\u001b[0m\u001b[1;33m.\u001b[0m\u001b[0mjoin\u001b[0m\u001b[1;33m(\u001b[0m\u001b[0mroot\u001b[0m\u001b[1;33m,\u001b[0m \u001b[1;34m'44swing5.mid'\u001b[0m\u001b[1;33m)\u001b[0m\u001b[1;33m\u001b[0m\u001b[0m\n\u001b[1;32m---> 73\u001b[1;33m \u001b[0mpiece\u001b[0m\u001b[1;33m,\u001b[0m \u001b[0mall_parts\u001b[0m \u001b[1;33m=\u001b[0m \u001b[0mimportMIDI\u001b[0m\u001b[1;33m(\u001b[0m\u001b[0mtrack_path\u001b[0m\u001b[1;33m)\u001b[0m\u001b[1;33m\u001b[0m\u001b[0m\n\u001b[0m\u001b[0;32m     74\u001b[0m \u001b[0mpiece\u001b[0m\u001b[1;33m.\u001b[0m\u001b[0mplot\u001b[0m\u001b[1;33m(\u001b[0m\u001b[1;33m)\u001b[0m\u001b[1;33m\u001b[0m\u001b[0m\n\u001b[0;32m     75\u001b[0m \u001b[1;33m\u001b[0m\u001b[0m\n",
      "\u001b[1;32m<ipython-input-1-731b3f3b3304>\u001b[0m in \u001b[0;36mimportMIDI\u001b[1;34m(f)\u001b[0m\n\u001b[0;32m     46\u001b[0m \u001b[1;31m# Here we provide a MIDI import function\u001b[0m\u001b[1;33m\u001b[0m\u001b[1;33m\u001b[0m\u001b[0m\n\u001b[0;32m     47\u001b[0m \u001b[1;32mdef\u001b[0m \u001b[0mimportMIDI\u001b[0m\u001b[1;33m(\u001b[0m\u001b[0mf\u001b[0m\u001b[1;33m)\u001b[0m\u001b[1;33m:\u001b[0m\u001b[1;33m\u001b[0m\u001b[0m\n\u001b[1;32m---> 48\u001b[1;33m     \u001b[0mpiece\u001b[0m \u001b[1;33m=\u001b[0m \u001b[0mconverter\u001b[0m\u001b[1;33m.\u001b[0m\u001b[0mparse\u001b[0m\u001b[1;33m(\u001b[0m\u001b[0mf\u001b[0m\u001b[1;33m)\u001b[0m\u001b[1;33m\u001b[0m\u001b[0m\n\u001b[0m\u001b[0;32m     49\u001b[0m     \u001b[0mall_parts\u001b[0m \u001b[1;33m=\u001b[0m \u001b[1;33m{\u001b[0m\u001b[1;33m}\u001b[0m\u001b[1;33m\u001b[0m\u001b[0m\n\u001b[0;32m     50\u001b[0m     \u001b[1;32mfor\u001b[0m \u001b[0mpart\u001b[0m \u001b[1;32min\u001b[0m \u001b[0mpiece\u001b[0m\u001b[1;33m.\u001b[0m\u001b[0mparts\u001b[0m\u001b[1;33m:\u001b[0m\u001b[1;33m\u001b[0m\u001b[0m\n",
      "\u001b[1;32m~\\Anaconda3\\lib\\site-packages\\music21\\converter\\__init__.py\u001b[0m in \u001b[0;36mparse\u001b[1;34m(value, *args, **keywords)\u001b[0m\n\u001b[0;32m   1135\u001b[0m         \u001b[1;32mraise\u001b[0m \u001b[0mFileNotFoundError\u001b[0m\u001b[1;33m(\u001b[0m\u001b[1;34m'Cannot find file in {:s}'\u001b[0m\u001b[1;33m.\u001b[0m\u001b[0mformat\u001b[0m\u001b[1;33m(\u001b[0m\u001b[0mstr\u001b[0m\u001b[1;33m(\u001b[0m\u001b[0mvalue\u001b[0m\u001b[1;33m)\u001b[0m\u001b[1;33m)\u001b[0m\u001b[1;33m)\u001b[0m\u001b[1;33m\u001b[0m\u001b[0m\n\u001b[0;32m   1136\u001b[0m     \u001b[1;32melse\u001b[0m\u001b[1;33m:\u001b[0m\u001b[1;33m\u001b[0m\u001b[0m\n\u001b[1;32m-> 1137\u001b[1;33m         \u001b[1;32mreturn\u001b[0m \u001b[0mparseData\u001b[0m\u001b[1;33m(\u001b[0m\u001b[0mvalue\u001b[0m\u001b[1;33m,\u001b[0m \u001b[0mnumber\u001b[0m\u001b[1;33m=\u001b[0m\u001b[0mnumber\u001b[0m\u001b[1;33m,\u001b[0m \u001b[0mformat\u001b[0m\u001b[1;33m=\u001b[0m\u001b[0mm21Format\u001b[0m\u001b[1;33m,\u001b[0m \u001b[1;33m**\u001b[0m\u001b[0mkeywords\u001b[0m\u001b[1;33m)\u001b[0m\u001b[1;33m\u001b[0m\u001b[0m\n\u001b[0m\u001b[0;32m   1138\u001b[0m \u001b[1;33m\u001b[0m\u001b[0m\n\u001b[0;32m   1139\u001b[0m \u001b[1;33m\u001b[0m\u001b[0m\n",
      "\u001b[1;32m~\\Anaconda3\\lib\\site-packages\\music21\\converter\\__init__.py\u001b[0m in \u001b[0;36mparseData\u001b[1;34m(dataStr, number, format, **keywords)\u001b[0m\n\u001b[0;32m   1011\u001b[0m     '''\n\u001b[0;32m   1012\u001b[0m     \u001b[0mv\u001b[0m \u001b[1;33m=\u001b[0m \u001b[0mConverter\u001b[0m\u001b[1;33m(\u001b[0m\u001b[1;33m)\u001b[0m\u001b[1;33m\u001b[0m\u001b[0m\n\u001b[1;32m-> 1013\u001b[1;33m     \u001b[0mv\u001b[0m\u001b[1;33m.\u001b[0m\u001b[0mparseData\u001b[0m\u001b[1;33m(\u001b[0m\u001b[0mdataStr\u001b[0m\u001b[1;33m,\u001b[0m \u001b[0mnumber\u001b[0m\u001b[1;33m=\u001b[0m\u001b[0mnumber\u001b[0m\u001b[1;33m,\u001b[0m \u001b[0mformat\u001b[0m\u001b[1;33m=\u001b[0m\u001b[0mformat\u001b[0m\u001b[1;33m,\u001b[0m \u001b[1;33m**\u001b[0m\u001b[0mkeywords\u001b[0m\u001b[1;33m)\u001b[0m\u001b[1;33m\u001b[0m\u001b[0m\n\u001b[0m\u001b[0;32m   1014\u001b[0m     \u001b[1;32mreturn\u001b[0m \u001b[0mv\u001b[0m\u001b[1;33m.\u001b[0m\u001b[0mstream\u001b[0m\u001b[1;33m\u001b[0m\u001b[0m\n\u001b[0;32m   1015\u001b[0m \u001b[1;33m\u001b[0m\u001b[0m\n",
      "\u001b[1;32m~\\Anaconda3\\lib\\site-packages\\music21\\converter\\__init__.py\u001b[0m in \u001b[0;36mparseData\u001b[1;34m(self, dataStr, number, format, forceSource, **keywords)\u001b[0m\n\u001b[0;32m    604\u001b[0m             \u001b[1;32melse\u001b[0m\u001b[1;33m:\u001b[0m\u001b[1;33m\u001b[0m\u001b[0m\n\u001b[0;32m    605\u001b[0m                 raise ConverterException('File not found or no such format found for: %s' %\n\u001b[1;32m--> 606\u001b[1;33m                                          dataStrMakeStr)\n\u001b[0m\u001b[0;32m    607\u001b[0m \u001b[1;33m\u001b[0m\u001b[0m\n\u001b[0;32m    608\u001b[0m         \u001b[0mself\u001b[0m\u001b[1;33m.\u001b[0m\u001b[0msetSubconverterFromFormat\u001b[0m\u001b[1;33m(\u001b[0m\u001b[0museFormat\u001b[0m\u001b[1;33m)\u001b[0m\u001b[1;33m\u001b[0m\u001b[0m\n",
      "\u001b[1;31mConverterException\u001b[0m: File not found or no such format found for: D:\\UNIVERSITE\\Cours\\Informatique Musicale\\Machine Learning\\Project\\Midi\\44swing5.mid"
     ]
    }
   ],
   "source": [
    "import math\n",
    "import numpy as np\n",
    "import os\n",
    "from music21 import converter\n",
    "import matplotlib.pyplot as plt\n",
    "\n",
    "\n",
    "def get_start_time(el, measure_offset, quantization):\n",
    "    if (el.offset is not None) and (el.measureNumber in measure_offset):\n",
    "        return int(math.ceil(((measure_offset[el.measureNumber] or 0) + el.offset) * quantization))\n",
    "    # Else, no time defined for this element and the functino return None\n",
    "\n",
    "\n",
    "def get_end_time(el, measure_offset, quantization):\n",
    "    if (el.offset is not None) and (el.measureNumber in measure_offset):\n",
    "        return int(\n",
    "            math.ceil(((measure_offset[el.measureNumber] or 0) + el.offset + el.duration.quarterLength) * quantization))\n",
    "    # Else, no time defined for this element and the functino return None\n",
    "\n",
    "\n",
    "def get_pianoroll_part(part, quantization):\n",
    "    # Get the measure offsets\n",
    "    measure_offset = {None: 0}\n",
    "    for el in part.recurse(classFilter=('Measure')):\n",
    "        measure_offset[el.measureNumber] = el.offset\n",
    "    # Get the duration of the part\n",
    "    duration_max = 0\n",
    "    for el in part.recurse(classFilter=('Note', 'Rest')):\n",
    "        t_end = get_end_time(el, measure_offset, quantization)\n",
    "        if (t_end > duration_max):\n",
    "            duration_max = t_end\n",
    "    # Get the pitch and offset+duration\n",
    "    piano_roll_part = np.zeros((128, math.ceil(duration_max)))\n",
    "    for this_note in part.recurse(classFilter=('Note')):\n",
    "        note_start = get_start_time(this_note, measure_offset, quantization)\n",
    "        note_end = get_end_time(this_note, measure_offset, quantization)\n",
    "        piano_roll_part[this_note.pitch.midi, note_start:note_end] = 1  \n",
    "        #print(this_note.pitch.midi,this_note.pitch)\n",
    "    \n",
    "    #for this_note in part.recurse(classFilter=('Instrument')):\n",
    "    #    print(this_note)\n",
    "\n",
    "    return piano_roll_part\n",
    "\n",
    "\n",
    "# Here we provide a MIDI import function\n",
    "def importMIDI(f):\n",
    "    piece = converter.parse(f)\n",
    "    all_parts = {}\n",
    "    for part in piece.parts:\n",
    "        try:\n",
    "            track_name = part[0].bestName()\n",
    "        except AttributeError:\n",
    "            track_name = 'None'\n",
    "        cur_part = get_pianoroll_part(part, 16);\n",
    "        if (cur_part.shape[1] > 0):\n",
    "            all_parts[track_name] = cur_part;\n",
    "    print('Returning')\n",
    "    return piece, all_parts\n",
    "\n",
    "\n",
    "'''\n",
    "\n",
    "Q-4.1 Import and plot some MIDI files\n",
    "\n",
    "Based on the provided MIDI files (random subset of Beethoven tracks), try\n",
    "to import, plot and compare different files\n",
    "\n",
    "'''\n",
    "\n",
    "root = r'D:\\UNIVERSITE\\Cours\\Informatique Musicale\\Machine Learning\\Project\\Midi'\n",
    "track_path = os.path.join(root, '44swing5.mid')\n",
    "piece, all_parts = importMIDI(track_path)\n",
    "piece.plot()\n",
    "\n",
    "print(all_parts['None'][36])\n",
    "plt.figure(2)\n",
    "plt.plot(all_parts['None'][36])\n",
    "\n",
    "\n",
    "\n",
    "# TODO : \n",
    "# 1) Faire un bout de programme pour choisir l'instrument en fonction de la note.\n",
    "# Kick, Clap, Snare, HHC, HHO, Random, Cymbales, Toms \n",
    "# 2) Regarder la quantification, et la mesure.\n",
    "# 3) Loader automatiquement tout les fichiers. \n",
    "# http://web.mit.edu/music21/doc/usersGuide/usersGuide_14_timeSignatures.html\n",
    "# http://web.mit.edu/music21/doc/moduleReference/moduleMeter.html#music21.meter.TimeSignature.beatSequence\n"
   ]
  },
  {
   "cell_type": "markdown",
   "metadata": {},
   "source": [
    "# Le code de Bibi\n",
    "Ici, c'est le code du projet qui commence."
   ]
  },
  {
   "cell_type": "code",
   "execution_count": 1,
   "metadata": {},
   "outputs": [],
   "source": [
    "#Importing modules\n",
    "import math\n",
    "import numpy as np\n",
    "import os\n",
    "from music21 import converter\n",
    "import matplotlib.pyplot as plt\n",
    "\n",
    "np.set_printoptions(threshold=np.nan)"
   ]
  },
  {
   "cell_type": "markdown",
   "metadata": {},
   "source": [
    "## Les fonctions d'Esling\n"
   ]
  },
  {
   "cell_type": "code",
   "execution_count": 2,
   "metadata": {},
   "outputs": [],
   "source": [
    "# Defining functions\n",
    "def get_start_time(el, measure_offset, quantization):\n",
    "    if (el.offset is not None) and (el.measureNumber in measure_offset):\n",
    "        return int(math.ceil(((measure_offset[el.measureNumber] or 0) + el.offset) * quantization))\n",
    "    # Else, no time defined for this element and the functino return None\n",
    "\n",
    "\n",
    "def get_end_time(el, measure_offset, quantization):\n",
    "    if (el.offset is not None) and (el.measureNumber in measure_offset):\n",
    "        return int(\n",
    "            math.ceil(((measure_offset[el.measureNumber] or 0) + el.offset + el.duration.quarterLength) * quantization))\n",
    "    # Else, no time defined for this element and the functino return None\n",
    "\n",
    "\n",
    "def get_pianoroll_part(part, quantization):\n",
    "    # Get the measure offsets\n",
    "    measure_offset = {None: 0}\n",
    "    for el in part.recurse(classFilter=('Measure')):\n",
    "        measure_offset[el.measureNumber] = el.offset\n",
    "\n",
    "    # Get the duration of the part\n",
    "    duration_max = 0\n",
    "    for el in part.recurse(classFilter=('Note')):\n",
    "        t_end = get_end_time(el, measure_offset, quantization)\n",
    "        if (t_end > duration_max):\n",
    "            duration_max = t_end\n",
    "\n",
    "    # Get the pitch and offset+duration\n",
    "    piano_roll_part = np.zeros((math.ceil(duration_max+1)))\n",
    "    for this_note in part.recurse(classFilter=('Note')):\n",
    "        note_start = get_start_time(this_note, measure_offset, quantization)\n",
    "        piano_roll_part[note_start] = 1  \n",
    "        #print(this_note.offset)\n",
    "        print(this_note.pitch, 'Beat : ', this_note.beat)\n",
    "        #print(this_note.pitch.midi,this_note.pitch)\n",
    "    print(switch_instrument(this_note.pitch.midi))\n",
    "    \n",
    "    return piano_roll_part, switch_instrument(this_note.pitch.midi)\n",
    "\n",
    "\n"
   ]
  },
  {
   "cell_type": "markdown",
   "metadata": {},
   "source": [
    "## Les fonctions maisons"
   ]
  },
  {
   "cell_type": "code",
   "execution_count": 117,
   "metadata": {},
   "outputs": [],
   "source": [
    "# Switch case pour convertir les notes midi en indices correspondant à nos instruments.\n",
    "def get_instrument(midi):\n",
    "    return {\n",
    "        35 : lambda : 0, # Kick : 0\n",
    "        36 : lambda : 0,\n",
    "        37 : lambda : 1, # Snare : 1\n",
    "        38 : lambda : 1,\n",
    "        39 : lambda : 2, # Clap : 2\n",
    "        40 : lambda : 1,\n",
    "        41 : lambda : 5, # Tom : 5\n",
    "        42 : lambda : 4, # HHC : 4\n",
    "        43 : lambda : 5,\n",
    "        44 : lambda : 4,\n",
    "        45 : lambda : 5,\n",
    "        46 : lambda : 3, # HHO : 3\n",
    "        47 : lambda : 5,\n",
    "        48 : lambda : 5,\n",
    "        49 : lambda : 6, # Cymbales : 6\n",
    "        50 : lambda : 5,\n",
    "        51 : lambda : 6,\n",
    "        52 : lambda : 6,\n",
    "        53 : lambda : 6,\n",
    "        55 : lambda : 6,\n",
    "        57 : lambda : 6,\n",
    "        59 : lambda : 6,\n",
    "        91 : lambda : 1,\n",
    "        93 : lambda : 1\n",
    "    }.get(midi, lambda : 7)() # Perc : 7\n",
    "   \n",
    "# Fonction pour trouver la taille du clip midi en termes d'offset.\n",
    "def get_midiclip_length(piece):\n",
    "    midi_length = 0\n",
    "    \n",
    "    for part in piece.parts: \n",
    "        list_offsets = part.offsetMap()\n",
    "        tmp = float(list_offsets[len(list_offsets)-1].offset)\n",
    "        if tmp > midi_length:\n",
    "            midi_length = tmp\n",
    "            \n",
    "    # Ceiling\n",
    "    midi_length = math.ceil(midi_length) \n",
    "    \n",
    "    # Quantizing to nearest measure depending on the time signature.\n",
    "    midi_length += midi_length % piece.parts[0].timeSignature.numerator\n",
    "    print(piece.parts[0].timeSignature.numerator)\n",
    "    return midi_length\n",
    "\n",
    "\n",
    "'''\n",
    "Fonction pour trouver les notes d'un accord music21 (chord)\n",
    "'''\n",
    "def process_chord(activation_matrix,this_chord):\n",
    "    for this_note in this_chord:\n",
    "        process_note(activation_matrix,this_note)\n",
    "    \n",
    "'''\n",
    "Fonction qui associe une note à une activation dans piano_roll.\n",
    "TODO : Remplir activation_matrix en fonction de la note et de son offset. Retourner piano_roll\n",
    "'''\n",
    "def process_note(activation_matrix,this_note):\n",
    "        instrument = get_instrument(this_note.pitch.midi)\n",
    "        #print(this_note.offset)\n",
    "        activation = np.int(np.ceil(this_note.offset * 4))\n",
    "        #print(activation)\n",
    "        \n",
    "        #if activation < 32: #32 correspond à quantification*nb_measure\n",
    "            #activation_matrix[instrument,activation] = 1 \n",
    "            #print(\"instrument\",instrument)\n",
    "            #print(\"activation\",activation)\n",
    "            #print(\"this is an activation\")\n",
    "        \n",
    "        return activation_matrix\n",
    "\n",
    "'''\n",
    "Renvoie l'activation_matrix du clip midi.\n",
    "TODO:   Terminer process_note et process_chord.\n",
    "\n",
    "'''\n",
    "def get_pianoroll(piece):\n",
    "    nb_instrument = 8 #fixed\n",
    "    quantification = 16 #number of divison in one measure : 16 = precision of a double-croche\n",
    "    nb_measure = 2 #number of measures\n",
    "    \n",
    "    midi_length = get_midiclip_length(piece)\n",
    "    #print('longueur',midi_length) \n",
    "    #j'ai l'impression que la fonction midi_lenght ne renvoit pas la bonne longueur\n",
    "    #toujours est-il que je ne sais pas si ça sert vraiment à quelque chose\n",
    "    #puisque c'est nous qui allont fixer la longueur de ce qu'on prend dans le midi\n",
    "    #ie les 2 premières mesures. \n",
    "    \n",
    "    activation_matrix = np.zeros((nb_instrument,quantification*nb_measure))\n",
    "    \n",
    "    for part in piece.parts:\n",
    "        for this_note in part.recurse(classFilter=('Note', 'Chord')):\n",
    "            if this_note.isChord == True:\n",
    "                #print('Chord')\n",
    "                activation_matrix = process_chord(activation_matrix, this_note)\n",
    "            else:\n",
    "                #print('Note')\n",
    "                activation_matrix = process_note(activation_matrix, this_note)\n",
    "                            \n",
    "    \n",
    "    return activation_matrix\n",
    "    \n",
    "\n",
    "# Here we provide a MIDI import function\n",
    "def importMIDI(f):\n",
    "    piece = converter.parse(f)\n",
    "    activation_matrix = get_pianoroll(piece)\n",
    "    \n",
    "    return piece,activation_matrix"
   ]
  },
  {
   "cell_type": "code",
   "execution_count": 118,
   "metadata": {},
   "outputs": [
    {
     "name": "stdout",
     "output_type": "stream",
     "text": [
      "13\n"
     ]
    },
    {
     "ename": "AttributeError",
     "evalue": "'Fraction' object has no attribute 'ceil'",
     "output_type": "error",
     "traceback": [
      "\u001b[1;31m---------------------------------------------------------------------------\u001b[0m",
      "\u001b[1;31mAttributeError\u001b[0m                            Traceback (most recent call last)",
      "\u001b[1;32m<ipython-input-118-f021d9a826ab>\u001b[0m in \u001b[0;36m<module>\u001b[1;34m()\u001b[0m\n\u001b[0;32m      4\u001b[0m \u001b[0mtrack_path\u001b[0m \u001b[1;33m=\u001b[0m \u001b[0mos\u001b[0m\u001b[1;33m.\u001b[0m\u001b[0mpath\u001b[0m\u001b[1;33m.\u001b[0m\u001b[0mjoin\u001b[0m\u001b[1;33m(\u001b[0m\u001b[0mroot\u001b[0m\u001b[1;33m,\u001b[0m\u001b[1;34m'a138fnk.mid'\u001b[0m\u001b[1;33m)\u001b[0m\u001b[1;33m\u001b[0m\u001b[0m\n\u001b[0;32m      5\u001b[0m \u001b[1;31m#track_path = os.path.join(root,'(drums)_House#2.mid')\u001b[0m\u001b[1;33m\u001b[0m\u001b[1;33m\u001b[0m\u001b[0m\n\u001b[1;32m----> 6\u001b[1;33m \u001b[0mpiece\u001b[0m\u001b[1;33m,\u001b[0m\u001b[0mactivation_matrix\u001b[0m \u001b[1;33m=\u001b[0m \u001b[0mimportMIDI\u001b[0m\u001b[1;33m(\u001b[0m\u001b[0mtrack_path\u001b[0m\u001b[1;33m)\u001b[0m\u001b[1;33m\u001b[0m\u001b[0m\n\u001b[0m\u001b[0;32m      7\u001b[0m \u001b[0mpiece\u001b[0m\u001b[1;33m.\u001b[0m\u001b[0mplot\u001b[0m\u001b[1;33m(\u001b[0m\u001b[1;33m)\u001b[0m\u001b[1;33m\u001b[0m\u001b[0m\n\u001b[0;32m      8\u001b[0m \u001b[1;33m\u001b[0m\u001b[0m\n",
      "\u001b[1;32m<ipython-input-117-af6089d318ae>\u001b[0m in \u001b[0;36mimportMIDI\u001b[1;34m(f)\u001b[0m\n\u001b[0;32m    107\u001b[0m \u001b[1;32mdef\u001b[0m \u001b[0mimportMIDI\u001b[0m\u001b[1;33m(\u001b[0m\u001b[0mf\u001b[0m\u001b[1;33m)\u001b[0m\u001b[1;33m:\u001b[0m\u001b[1;33m\u001b[0m\u001b[0m\n\u001b[0;32m    108\u001b[0m     \u001b[0mpiece\u001b[0m \u001b[1;33m=\u001b[0m \u001b[0mconverter\u001b[0m\u001b[1;33m.\u001b[0m\u001b[0mparse\u001b[0m\u001b[1;33m(\u001b[0m\u001b[0mf\u001b[0m\u001b[1;33m)\u001b[0m\u001b[1;33m\u001b[0m\u001b[0m\n\u001b[1;32m--> 109\u001b[1;33m     \u001b[0mactivation_matrix\u001b[0m \u001b[1;33m=\u001b[0m \u001b[0mget_pianoroll\u001b[0m\u001b[1;33m(\u001b[0m\u001b[0mpiece\u001b[0m\u001b[1;33m)\u001b[0m\u001b[1;33m\u001b[0m\u001b[0m\n\u001b[0m\u001b[0;32m    110\u001b[0m \u001b[1;33m\u001b[0m\u001b[0m\n\u001b[0;32m    111\u001b[0m     \u001b[1;32mreturn\u001b[0m \u001b[0mpiece\u001b[0m\u001b[1;33m,\u001b[0m\u001b[0mactivation_matrix\u001b[0m\u001b[1;33m\u001b[0m\u001b[0m\n",
      "\u001b[1;32m<ipython-input-117-af6089d318ae>\u001b[0m in \u001b[0;36mget_pianoroll\u001b[1;34m(piece)\u001b[0m\n\u001b[0;32m     98\u001b[0m             \u001b[1;32melse\u001b[0m\u001b[1;33m:\u001b[0m\u001b[1;33m\u001b[0m\u001b[0m\n\u001b[0;32m     99\u001b[0m                 \u001b[1;31m#print('Note')\u001b[0m\u001b[1;33m\u001b[0m\u001b[1;33m\u001b[0m\u001b[0m\n\u001b[1;32m--> 100\u001b[1;33m                 \u001b[0mactivation_matrix\u001b[0m \u001b[1;33m=\u001b[0m \u001b[0mprocess_note\u001b[0m\u001b[1;33m(\u001b[0m\u001b[0mactivation_matrix\u001b[0m\u001b[1;33m,\u001b[0m \u001b[0mthis_note\u001b[0m\u001b[1;33m)\u001b[0m\u001b[1;33m\u001b[0m\u001b[0m\n\u001b[0m\u001b[0;32m    101\u001b[0m \u001b[1;33m\u001b[0m\u001b[0m\n\u001b[0;32m    102\u001b[0m \u001b[1;33m\u001b[0m\u001b[0m\n",
      "\u001b[1;32m<ipython-input-117-af6089d318ae>\u001b[0m in \u001b[0;36mprocess_note\u001b[1;34m(activation_matrix, this_note)\u001b[0m\n\u001b[0;32m     61\u001b[0m         \u001b[0minstrument\u001b[0m \u001b[1;33m=\u001b[0m \u001b[0mget_instrument\u001b[0m\u001b[1;33m(\u001b[0m\u001b[0mthis_note\u001b[0m\u001b[1;33m.\u001b[0m\u001b[0mpitch\u001b[0m\u001b[1;33m.\u001b[0m\u001b[0mmidi\u001b[0m\u001b[1;33m)\u001b[0m\u001b[1;33m\u001b[0m\u001b[0m\n\u001b[0;32m     62\u001b[0m         \u001b[1;31m#print(this_note.offset)\u001b[0m\u001b[1;33m\u001b[0m\u001b[1;33m\u001b[0m\u001b[0m\n\u001b[1;32m---> 63\u001b[1;33m         \u001b[0mactivation\u001b[0m \u001b[1;33m=\u001b[0m \u001b[0mnp\u001b[0m\u001b[1;33m.\u001b[0m\u001b[0mint\u001b[0m\u001b[1;33m(\u001b[0m\u001b[0mnp\u001b[0m\u001b[1;33m.\u001b[0m\u001b[0mceil\u001b[0m\u001b[1;33m(\u001b[0m\u001b[0mthis_note\u001b[0m\u001b[1;33m.\u001b[0m\u001b[0moffset\u001b[0m \u001b[1;33m*\u001b[0m \u001b[1;36m4\u001b[0m\u001b[1;33m)\u001b[0m\u001b[1;33m)\u001b[0m\u001b[1;33m\u001b[0m\u001b[0m\n\u001b[0m\u001b[0;32m     64\u001b[0m         \u001b[1;31m#print(activation)\u001b[0m\u001b[1;33m\u001b[0m\u001b[1;33m\u001b[0m\u001b[0m\n\u001b[0;32m     65\u001b[0m \u001b[1;33m\u001b[0m\u001b[0m\n",
      "\u001b[1;31mAttributeError\u001b[0m: 'Fraction' object has no attribute 'ceil'"
     ]
    }
   ],
   "source": [
    "# MAIN\n",
    "\n",
    "root = r'C:\\Users\\dell\\Desktop\\Datasets'\n",
    "track_path = os.path.join(root,'a138fnk.mid')\n",
    "#track_path = os.path.join(root,'(drums)_House#2.mid')\n",
    "piece,activation_matrix = importMIDI(track_path)\n",
    "piece.plot()\n",
    "\n",
    "plt.figure(2, figsize=[15,5])\n",
    "plt.imshow(np.asarray(activation_matrix))\n",
    "plt.colorbar()\n",
    "\n",
    "\n",
    "#print(piece.parts[0].metronomeMarkBoundaries())"
   ]
  },
  {
   "cell_type": "code",
   "execution_count": 98,
   "metadata": {},
   "outputs": [
    {
     "data": {
      "text/plain": [
       "1"
      ]
     },
     "execution_count": 98,
     "metadata": {},
     "output_type": "execute_result"
    }
   ],
   "source": [
    "np.int(np.ceil(1.))"
   ]
  },
  {
   "cell_type": "code",
   "execution_count": 82,
   "metadata": {},
   "outputs": [],
   "source": [
    "truc = np.zeros((4,4))\n"
   ]
  },
  {
   "cell_type": "code",
   "execution_count": 102,
   "metadata": {},
   "outputs": [
    {
     "name": "stdout",
     "output_type": "stream",
     "text": [
      "[[0. 0. 1. 0.]\n",
      " [0. 0. 0. 0.]\n",
      " [0. 0. 0. 0.]\n",
      " [0. 0. 0. 0.]]\n"
     ]
    }
   ],
   "source": [
    "truc[0,2] = 1\n",
    "print(truc)"
   ]
  },
  {
   "cell_type": "code",
   "execution_count": null,
   "metadata": {},
   "outputs": [],
   "source": []
  }
 ],
 "metadata": {
  "kernelspec": {
   "display_name": "Python 3",
   "language": "python",
   "name": "python3"
  },
  "language_info": {
   "codemirror_mode": {
    "name": "ipython",
    "version": 3
   },
   "file_extension": ".py",
   "mimetype": "text/x-python",
   "name": "python",
   "nbconvert_exporter": "python",
   "pygments_lexer": "ipython3",
   "version": "3.7.0"
  }
 },
 "nbformat": 4,
 "nbformat_minor": 2
}
